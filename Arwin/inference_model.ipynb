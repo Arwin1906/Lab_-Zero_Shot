{
 "cells": [
  {
   "cell_type": "code",
   "execution_count": 1,
   "metadata": {},
   "outputs": [],
   "source": [
    "import os\n",
    "from Arwin.synthetic_dataset import SyntheticDataset"
   ]
  },
  {
   "cell_type": "code",
   "execution_count": 2,
   "metadata": {},
   "outputs": [
    {
     "ename": "TypeError",
     "evalue": "SyntheticDataset.generate_bitmask_irregular() got an unexpected keyword argument 'mi_ones'",
     "output_type": "error",
     "traceback": [
      "\u001b[0;31m---------------------------------------------------------------------------\u001b[0m",
      "\u001b[0;31mTypeError\u001b[0m                                 Traceback (most recent call last)",
      "Cell \u001b[0;32mIn[2], line 1\u001b[0m\n\u001b[0;32m----> 1\u001b[0m synthetic_dataset \u001b[38;5;241m=\u001b[39m \u001b[43mSyntheticDataset\u001b[49m\u001b[43m(\u001b[49m\u001b[43mnum_functions\u001b[49m\u001b[38;5;241;43m=\u001b[39;49m\u001b[38;5;241;43m100000\u001b[39;49m\u001b[43m,\u001b[49m\u001b[43m \u001b[49m\u001b[43mnum_points\u001b[49m\u001b[38;5;241;43m=\u001b[39;49m\u001b[38;5;241;43m128\u001b[39;49m\u001b[43m)\u001b[49m\n",
      "File \u001b[0;32m/workspace/Arwin/synthetic_dataset.py:43\u001b[0m, in \u001b[0;36mSyntheticDataset.__init__\u001b[0;34m(self, num_functions, num_points, min_ones)\u001b[0m\n\u001b[1;32m     39\u001b[0m y_noisy \u001b[38;5;241m=\u001b[39m \u001b[38;5;28mself\u001b[39m\u001b[38;5;241m.\u001b[39madd_gaussian_noise(y_normalized)\n\u001b[1;32m     41\u001b[0m \u001b[38;5;28;01mif\u001b[39;00m i \u001b[38;5;241m<\u001b[39m \u001b[38;5;28mself\u001b[39m\u001b[38;5;241m.\u001b[39mnum_functions\u001b[38;5;241m/\u001b[39m\u001b[38;5;241m/\u001b[39m\u001b[38;5;241m2\u001b[39m:\n\u001b[1;32m     42\u001b[0m     \u001b[38;5;66;03m# Generate a random bitmask for irregularly sampled points\u001b[39;00m\n\u001b[0;32m---> 43\u001b[0m     bitmask \u001b[38;5;241m=\u001b[39m \u001b[38;5;28;43mself\u001b[39;49m\u001b[38;5;241;43m.\u001b[39;49m\u001b[43mgenerate_bitmask_irregular\u001b[49m\u001b[43m(\u001b[49m\u001b[43mmi_ones\u001b[49m\u001b[38;5;241;43m=\u001b[39;49m\u001b[38;5;28;43mself\u001b[39;49m\u001b[38;5;241;43m.\u001b[39;49m\u001b[43mmin_ones\u001b[49m\u001b[43m)\u001b[49m\n\u001b[1;32m     44\u001b[0m     observation_time \u001b[38;5;241m=\u001b[39m \u001b[38;5;28mself\u001b[39m\u001b[38;5;241m.\u001b[39mX[bitmask\u001b[38;5;241m==\u001b[39m\u001b[38;5;241m1\u001b[39m]\n\u001b[1;32m     45\u001b[0m     observation_value \u001b[38;5;241m=\u001b[39m y_noisy[bitmask\u001b[38;5;241m==\u001b[39m\u001b[38;5;241m1\u001b[39m]\n",
      "\u001b[0;31mTypeError\u001b[0m: SyntheticDataset.generate_bitmask_irregular() got an unexpected keyword argument 'mi_ones'"
     ]
    }
   ],
   "source": [
    "synthetic_dataset = SyntheticDataset(num_functions=100000, num_points=128)"
   ]
  }
 ],
 "metadata": {
  "kernelspec": {
   "display_name": "Python 3 (ipykernel)",
   "language": "python",
   "name": "python3"
  },
  "language_info": {
   "codemirror_mode": {
    "name": "ipython",
    "version": 3
   },
   "file_extension": ".py",
   "mimetype": "text/x-python",
   "name": "python",
   "nbconvert_exporter": "python",
   "pygments_lexer": "ipython3",
   "version": "3.10.12"
  }
 },
 "nbformat": 4,
 "nbformat_minor": 2
}
